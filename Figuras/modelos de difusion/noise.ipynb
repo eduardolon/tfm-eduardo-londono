{
 "cells": [
  {
   "cell_type": "code",
   "execution_count": 66,
   "metadata": {},
   "outputs": [
    {
     "name": "stderr",
     "output_type": "stream",
     "text": [
      "C:\\Users\\eduar\\AppData\\Local\\Temp\\ipykernel_19924\\4264064339.py:2: DeprecationWarning: This function is deprecated. Please call randint(-128, 129 + 1) instead\n",
      "  noise = np.random.random_integers(-128, 129, img.shape)\n"
     ]
    }
   ],
   "source": [
    "import cv2\n",
    "import numpy as np\n",
    "import random\n",
    "\n",
    "image = cv2.imread(\"0.jpg\")\n",
    "image = cv2.resize(image, (300, 300))\n",
    "new_image = cv2.cvtColor(image, cv2.COLOR_BGR2GRAY)\n",
    "cv2.imwrite(f\"0.jpg\", new_image)\n",
    "\n",
    "for i in range(1, 50):\n",
    "    new_image = add_noise(new_image)\n",
    "    if i % 3 == 0:\n",
    "        cv2.imwrite(f\"{i}.jpg\", new_image)\n"
   ]
  },
  {
   "cell_type": "code",
   "execution_count": 65,
   "metadata": {},
   "outputs": [],
   "source": [
    "def add_noise(img):\n",
    "    noise = np.random.random_integers(-128, 129, img.shape)\n",
    "    \n",
    "\n",
    "    return np.add(img, noise * 0.5)\n"
   ]
  }
 ],
 "metadata": {
  "kernelspec": {
   "display_name": "tfm",
   "language": "python",
   "name": "python3"
  },
  "language_info": {
   "codemirror_mode": {
    "name": "ipython",
    "version": 3
   },
   "file_extension": ".py",
   "mimetype": "text/x-python",
   "name": "python",
   "nbconvert_exporter": "python",
   "pygments_lexer": "ipython3",
   "version": "3.9.16"
  }
 },
 "nbformat": 4,
 "nbformat_minor": 2
}
